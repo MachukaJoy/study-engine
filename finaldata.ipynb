{
 "cells": [
  {
   "cell_type": "code",
   "execution_count": 42,
   "metadata": {},
   "outputs": [],
   "source": [
    "import pandas as pd\n",
    "import numpy as np\n",
    "import matplotlib.pyplot as plt\n",
    "import pandas as pd\n",
    "from sklearn.model_selection import train_test_split\n",
    "from sklearn.ensemble import RandomForestClassifier\n",
    "from sklearn.preprocessing import LabelEncoder\n",
    "from sklearn.metrics import classification_report, confusion_matrix, top_k_accuracy_score\n",
    "import matplotlib.pyplot as plt\n",
    "import seaborn as sns"
   ]
  },
  {
   "cell_type": "code",
   "execution_count": null,
   "metadata": {},
   "outputs": [],
   "source": [
    "df = pd.read_csv('new_data.csv')\n",
    "print(df.head())\n",
    "print(df.columns)"
   ]
  },
  {
   "cell_type": "code",
   "execution_count": null,
   "metadata": {},
   "outputs": [],
   "source": [
    "print(df.shape)"
   ]
  },
  {
   "cell_type": "code",
   "execution_count": null,
   "metadata": {},
   "outputs": [],
   "source": [
    "print(df.dtypes)"
   ]
  },
  {
   "cell_type": "code",
   "execution_count": null,
   "metadata": {},
   "outputs": [],
   "source": [
    "print(df.isnull().sum().sum())"
   ]
  },
  {
   "cell_type": "code",
   "execution_count": null,
   "metadata": {},
   "outputs": [],
   "source": [
    "df['Courses'].unique()"
   ]
  },
  {
   "cell_type": "code",
   "execution_count": null,
   "metadata": {},
   "outputs": [],
   "source": [
    "# Count values in the 'Courses' column\n",
    "course_counts = df['Courses'].value_counts()\n",
    "\n",
    "# Print counts and percentages\n",
    "print(\"Course distribution:\\n\")\n",
    "print(course_counts)\n",
    "print(\"\\nPercentage distribution:\\n\")\n",
    "print(course_counts / len(df) * 100)\n",
    "\n",
    "# Visualize the distribution\n",
    "plt.figure(figsize=(12, 6))\n",
    "course_counts.plot(kind='bar')\n",
    "plt.title('Distribution of Course Labels')\n",
    "plt.xlabel('Course')\n",
    "plt.ylabel('Count')\n",
    "plt.xticks(rotation=45, ha='right')\n",
    "plt.tight_layout()\n",
    "plt.show()"
   ]
  },
  {
   "cell_type": "code",
   "execution_count": 35,
   "metadata": {},
   "outputs": [],
   "source": [
    "# Separate features and target\n",
    "X = df.drop(columns=['Courses'])\n",
    "y = df['Courses']\n",
    "\n",
    "# Encode target labels (e.g., strings to integers)\n",
    "le = LabelEncoder()\n",
    "y_encoded = le.fit_transform(y)"
   ]
  },
  {
   "cell_type": "markdown",
   "metadata": {},
   "source": [
    "# Random Forest"
   ]
  },
  {
   "cell_type": "code",
   "execution_count": null,
   "metadata": {},
   "outputs": [],
   "source": [
    "# Split data into training and testing sets\n",
    "X_train, X_test, y_train, y_test = train_test_split(\n",
    "    X, y_encoded, test_size=0.2, random_state=42, stratify=y_encoded\n",
    ")\n",
    "\n",
    "# Initialize and train the model\n",
    "clf = RandomForestClassifier(n_estimators=100, random_state=42)\n",
    "clf.fit(X_train, y_train)\n",
    "\n",
    "# Make predictions\n",
    "y_pred = clf.predict(X_test)\n",
    "\n",
    "# Evaluate the model\n",
    "print(classification_report(y_test, y_pred, target_names=le.classes_))\n",
    "print(confusion_matrix(y_test, y_pred))\n",
    "# Confusion matrix\n",
    "cm = confusion_matrix(y_test, y_pred)\n",
    "\n",
    "# Plot confusion matrix\n",
    "plt.figure(figsize=(12, 10))\n",
    "sns.heatmap(cm, annot=False, cmap=\"Blues\", xticklabels=le.classes_, yticklabels=le.classes_)\n",
    "plt.title('Confusion Matrix')\n",
    "plt.xlabel('Predicted')\n",
    "plt.ylabel('True')\n",
    "plt.xticks(rotation=90)\n",
    "plt.yticks(rotation=0)\n",
    "plt.tight_layout()\n",
    "plt.show()"
   ]
  },
  {
   "cell_type": "code",
   "execution_count": null,
   "metadata": {},
   "outputs": [],
   "source": [
    "# feature importance\n",
    "importances = pd.Series(clf.feature_importances_, index=X.columns)\n",
    "importances.sort_values().tail(10).plot(kind='barh', title='Top 10 Important Features')\n",
    "plt.show()\n"
   ]
  },
  {
   "cell_type": "markdown",
   "metadata": {},
   "source": [
    "# XGBoost"
   ]
  },
  {
   "cell_type": "code",
   "execution_count": null,
   "metadata": {},
   "outputs": [],
   "source": [
    "import xgboost as xgb\n",
    "\n",
    "# Train XGBoost\n",
    "xgb_model = xgb.XGBClassifier(objective='multi:softmax', num_class=len(le.classes_), eval_metric='mlogloss')\n",
    "xgb_model.fit(X_train, y_train)\n",
    "\n",
    "# Predict and report\n",
    "y_pred = xgb_model.predict(X_test)\n",
    "print(\"XGBoost Classification Report:\")\n",
    "print(classification_report(y_test, y_pred, target_names=le.classes_))\n"
   ]
  },
  {
   "cell_type": "markdown",
   "metadata": {},
   "source": [
    "# Tensorflow neural networks"
   ]
  },
  {
   "cell_type": "code",
   "execution_count": 39,
   "metadata": {},
   "outputs": [],
   "source": [
    "import tensorflow as tf\n",
    "from tensorflow.keras.models import Sequential\n",
    "from tensorflow.keras.layers import Dense, Dropout\n",
    "from tensorflow.keras.utils import to_categorical"
   ]
  },
  {
   "cell_type": "code",
   "execution_count": 44,
   "metadata": {},
   "outputs": [
    {
     "name": "stdout",
     "output_type": "stream",
     "text": [
      "Epoch 1/20\n"
     ]
    },
    {
     "name": "stderr",
     "output_type": "stream",
     "text": [
      "c:\\Users\\user\\OneDrive\\Documents\\AmTech\\Git Project\\study-engine\\.venv\\Lib\\site-packages\\keras\\src\\layers\\core\\dense.py:93: UserWarning: Do not pass an `input_shape`/`input_dim` argument to a layer. When using Sequential models, prefer using an `Input(shape)` object as the first layer in the model instead.\n",
      "  super().__init__(activity_regularizer=activity_regularizer, **kwargs)\n"
     ]
    },
    {
     "name": "stdout",
     "output_type": "stream",
     "text": [
      "\u001b[1m160/160\u001b[0m \u001b[32m━━━━━━━━━━━━━━━━━━━━\u001b[0m\u001b[37m\u001b[0m \u001b[1m2s\u001b[0m 7ms/step - accuracy: 0.2762 - loss: 3.1335 - val_accuracy: 0.9541 - val_loss: 0.8919\n",
      "Epoch 2/20\n",
      "\u001b[1m160/160\u001b[0m \u001b[32m━━━━━━━━━━━━━━━━━━━━\u001b[0m\u001b[37m\u001b[0m \u001b[1m1s\u001b[0m 3ms/step - accuracy: 0.8659 - loss: 0.8229 - val_accuracy: 0.9965 - val_loss: 0.1401\n",
      "Epoch 3/20\n",
      "\u001b[1m160/160\u001b[0m \u001b[32m━━━━━━━━━━━━━━━━━━━━\u001b[0m\u001b[37m\u001b[0m \u001b[1m0s\u001b[0m 3ms/step - accuracy: 0.9391 - loss: 0.2850 - val_accuracy: 0.9965 - val_loss: 0.0568\n",
      "Epoch 4/20\n",
      "\u001b[1m160/160\u001b[0m \u001b[32m━━━━━━━━━━━━━━━━━━━━\u001b[0m\u001b[37m\u001b[0m \u001b[1m0s\u001b[0m 3ms/step - accuracy: 0.9689 - loss: 0.1667 - val_accuracy: 0.9965 - val_loss: 0.0313\n",
      "Epoch 5/20\n",
      "\u001b[1m160/160\u001b[0m \u001b[32m━━━━━━━━━━━━━━━━━━━━\u001b[0m\u001b[37m\u001b[0m \u001b[1m0s\u001b[0m 3ms/step - accuracy: 0.9780 - loss: 0.1024 - val_accuracy: 0.9965 - val_loss: 0.0254\n",
      "Epoch 6/20\n",
      "\u001b[1m160/160\u001b[0m \u001b[32m━━━━━━━━━━━━━━━━━━━━\u001b[0m\u001b[37m\u001b[0m \u001b[1m1s\u001b[0m 4ms/step - accuracy: 0.9858 - loss: 0.0731 - val_accuracy: 0.9965 - val_loss: 0.0184\n",
      "Epoch 7/20\n",
      "\u001b[1m160/160\u001b[0m \u001b[32m━━━━━━━━━━━━━━━━━━━━\u001b[0m\u001b[37m\u001b[0m \u001b[1m0s\u001b[0m 3ms/step - accuracy: 0.9873 - loss: 0.0659 - val_accuracy: 0.9965 - val_loss: 0.0167\n",
      "Epoch 8/20\n",
      "\u001b[1m160/160\u001b[0m \u001b[32m━━━━━━━━━━━━━━━━━━━━\u001b[0m\u001b[37m\u001b[0m \u001b[1m1s\u001b[0m 3ms/step - accuracy: 0.9913 - loss: 0.0606 - val_accuracy: 0.9965 - val_loss: 0.0154\n",
      "Epoch 9/20\n",
      "\u001b[1m160/160\u001b[0m \u001b[32m━━━━━━━━━━━━━━━━━━━━\u001b[0m\u001b[37m\u001b[0m \u001b[1m1s\u001b[0m 3ms/step - accuracy: 0.9911 - loss: 0.0485 - val_accuracy: 0.9965 - val_loss: 0.0149\n",
      "Epoch 10/20\n",
      "\u001b[1m160/160\u001b[0m \u001b[32m━━━━━━━━━━━━━━━━━━━━\u001b[0m\u001b[37m\u001b[0m \u001b[1m1s\u001b[0m 3ms/step - accuracy: 0.9913 - loss: 0.0440 - val_accuracy: 0.9965 - val_loss: 0.0139\n",
      "Epoch 11/20\n",
      "\u001b[1m160/160\u001b[0m \u001b[32m━━━━━━━━━━━━━━━━━━━━\u001b[0m\u001b[37m\u001b[0m \u001b[1m0s\u001b[0m 3ms/step - accuracy: 0.9920 - loss: 0.0356 - val_accuracy: 0.9965 - val_loss: 0.0152\n",
      "Epoch 12/20\n",
      "\u001b[1m160/160\u001b[0m \u001b[32m━━━━━━━━━━━━━━━━━━━━\u001b[0m\u001b[37m\u001b[0m \u001b[1m1s\u001b[0m 3ms/step - accuracy: 0.9955 - loss: 0.0310 - val_accuracy: 0.9965 - val_loss: 0.0134\n",
      "Epoch 13/20\n",
      "\u001b[1m160/160\u001b[0m \u001b[32m━━━━━━━━━━━━━━━━━━━━\u001b[0m\u001b[37m\u001b[0m \u001b[1m1s\u001b[0m 3ms/step - accuracy: 0.9952 - loss: 0.0275 - val_accuracy: 0.9965 - val_loss: 0.0145\n",
      "Epoch 14/20\n",
      "\u001b[1m160/160\u001b[0m \u001b[32m━━━━━━━━━━━━━━━━━━━━\u001b[0m\u001b[37m\u001b[0m \u001b[1m0s\u001b[0m 2ms/step - accuracy: 0.9930 - loss: 0.0337 - val_accuracy: 0.9965 - val_loss: 0.0131\n",
      "Epoch 15/20\n",
      "\u001b[1m160/160\u001b[0m \u001b[32m━━━━━━━━━━━━━━━━━━━━\u001b[0m\u001b[37m\u001b[0m \u001b[1m1s\u001b[0m 3ms/step - accuracy: 0.9967 - loss: 0.0244 - val_accuracy: 0.9965 - val_loss: 0.0148\n",
      "Epoch 16/20\n",
      "\u001b[1m160/160\u001b[0m \u001b[32m━━━━━━━━━━━━━━━━━━━━\u001b[0m\u001b[37m\u001b[0m \u001b[1m0s\u001b[0m 3ms/step - accuracy: 0.9954 - loss: 0.0230 - val_accuracy: 0.9965 - val_loss: 0.0131\n",
      "Epoch 17/20\n",
      "\u001b[1m160/160\u001b[0m \u001b[32m━━━━━━━━━━━━━━━━━━━━\u001b[0m\u001b[37m\u001b[0m \u001b[1m1s\u001b[0m 3ms/step - accuracy: 0.9933 - loss: 0.0243 - val_accuracy: 0.9965 - val_loss: 0.0124\n",
      "Epoch 18/20\n",
      "\u001b[1m160/160\u001b[0m \u001b[32m━━━━━━━━━━━━━━━━━━━━\u001b[0m\u001b[37m\u001b[0m \u001b[1m0s\u001b[0m 3ms/step - accuracy: 0.9949 - loss: 0.0244 - val_accuracy: 0.9965 - val_loss: 0.0128\n",
      "Epoch 19/20\n",
      "\u001b[1m160/160\u001b[0m \u001b[32m━━━━━━━━━━━━━━━━━━━━\u001b[0m\u001b[37m\u001b[0m \u001b[1m0s\u001b[0m 3ms/step - accuracy: 0.9964 - loss: 0.0205 - val_accuracy: 0.9965 - val_loss: 0.0120\n",
      "Epoch 20/20\n",
      "\u001b[1m160/160\u001b[0m \u001b[32m━━━━━━━━━━━━━━━━━━━━\u001b[0m\u001b[37m\u001b[0m \u001b[1m1s\u001b[0m 3ms/step - accuracy: 0.9944 - loss: 0.0266 - val_accuracy: 0.9965 - val_loss: 0.0141\n",
      "\u001b[1m23/23\u001b[0m \u001b[32m━━━━━━━━━━━━━━━━━━━━\u001b[0m\u001b[37m\u001b[0m \u001b[1m0s\u001b[0m 2ms/step - accuracy: 0.9987 - loss: 0.0059     \n",
      "Neural Net Test Accuracy: 0.9972\n",
      "\u001b[1m23/23\u001b[0m \u001b[32m━━━━━━━━━━━━━━━━━━━━\u001b[0m\u001b[37m\u001b[0m \u001b[1m0s\u001b[0m 3ms/step\n",
      "Neural Net Classification Report:\n",
      "                                                     precision    recall  f1-score   support\n",
      "\n",
      "                 Animation, Graphics and Multimedia       1.00      1.00      1.00        20\n",
      "                   B.Arch- Bachelor of Architecture       1.00      1.00      1.00        20\n",
      "                        B.Com- Bachelor of Commerce       1.00      0.90      0.95        20\n",
      "                                              B.Ed.       1.00      1.00      1.00        20\n",
      "                              B.Sc- Applied Geology       1.00      1.00      1.00        20\n",
      "                                      B.Sc- Nursing       1.00      1.00      1.00        20\n",
      "                                    B.Sc. Chemistry       1.00      1.00      1.00        21\n",
      "                                  B.Sc. Mathematics       1.00      1.00      1.00        21\n",
      "                      B.Sc.- Information Technology       1.00      1.00      1.00        20\n",
      "                                     B.Sc.- Physics       1.00      1.00      1.00        20\n",
      "                          B.Tech.-Civil Engineering       1.00      1.00      1.00        21\n",
      "           B.Tech.-Computer Science and Engineering       1.00      1.00      1.00        20\n",
      "     B.Tech.-Electrical and Electronics Engineering       1.00      1.00      1.00        20\n",
      "  B.Tech.-Electronics and Communication Engineering       1.00      1.00      1.00        20\n",
      "                     B.Tech.-Mechanical Engineering       1.00      1.00      1.00        21\n",
      "                                    BA in Economics       1.00      1.00      1.00        20\n",
      "                                      BA in English       1.00      1.00      1.00        20\n",
      "                                        BA in Hindi       1.00      1.00      1.00        20\n",
      "                                      BA in History       1.00      1.00      1.00        20\n",
      "           BBA- Bachelor of Business Administration       1.00      1.00      1.00        20\n",
      "                  BBS- Bachelor of Business Studies       0.92      1.00      0.96        22\n",
      "             BCA- Bachelor of Computer Applications       1.00      1.00      1.00        21\n",
      "                    BDS- Bachelor of Dental Surgery       1.00      1.00      1.00        20\n",
      "                  BEM- Bachelor of Event Management       1.00      1.00      1.00        20\n",
      "                 BFD- Bachelor of Fashion Designing       1.00      1.00      1.00        20\n",
      "BJMC- Bachelor of Journalism and Mass Communication       1.00      1.00      1.00        20\n",
      "                      BPharma- Bachelor of Pharmacy       1.00      1.00      1.00        20\n",
      "    BTTM- Bachelor of Travel and Tourism Management       1.00      1.00      1.00        18\n",
      "                       BVA- Bachelor of Visual Arts       1.00      1.00      1.00        20\n",
      "                          CA- Chartered Accountancy       1.00      1.00      1.00        21\n",
      "                              CS- Company Secretary       1.00      1.00      1.00        20\n",
      "                                     Civil Services       1.00      1.00      1.00        20\n",
      "                           Diploma in Dramatic Arts       1.00      1.00      1.00        20\n",
      "                   Integrated Law Course- BA + LL.B       1.00      1.00      1.00        20\n",
      "                                               MBBS       1.00      1.00      1.00        21\n",
      "\n",
      "                                           accuracy                           1.00       707\n",
      "                                          macro avg       1.00      1.00      1.00       707\n",
      "                                       weighted avg       1.00      1.00      1.00       707\n",
      "\n"
     ]
    }
   ],
   "source": [
    "# One-hot encode target\n",
    "y_categorical = to_categorical(y_encoded)\n",
    "\n",
    "# Split data\n",
    "X_train, X_test, y_train, y_test = train_test_split(\n",
    "    X, y_categorical, test_size=0.2, random_state=42, stratify=y_encoded\n",
    ")\n",
    "\n",
    "# Build model\n",
    "model = Sequential([\n",
    "    Dense(128, activation='relu', input_shape=(X.shape[1],)),\n",
    "    Dropout(0.3),\n",
    "    Dense(64, activation='relu'),\n",
    "    Dropout(0.3),\n",
    "    Dense(len(le.classes_), activation='softmax')\n",
    "])\n",
    "\n",
    "# Compile\n",
    "model.compile(optimizer='adam', loss='categorical_crossentropy', metrics=['accuracy'])\n",
    "\n",
    "# Train\n",
    "history = model.fit(X_train, y_train, epochs=20, batch_size=16, validation_split=0.1)\n",
    "\n",
    "# Evaluate\n",
    "test_loss, test_acc = model.evaluate(X_test, y_test)\n",
    "print(f\"Neural Net Test Accuracy: {test_acc:.4f}\")\n",
    "\n",
    "# Predict & Report\n",
    "y_pred_nn = np.argmax(model.predict(X_test), axis=1)\n",
    "y_true = np.argmax(y_test, axis=1)\n",
    "\n",
    "print(\"Neural Net Classification Report:\")\n",
    "print(classification_report(y_true, y_pred_nn, target_names=le.classes_))\n"
   ]
  },
  {
   "cell_type": "code",
   "execution_count": 45,
   "metadata": {},
   "outputs": [
    {
     "name": "stdout",
     "output_type": "stream",
     "text": [
      "\u001b[1m23/23\u001b[0m \u001b[32m━━━━━━━━━━━━━━━━━━━━\u001b[0m\u001b[37m\u001b[0m \u001b[1m0s\u001b[0m 3ms/step \n",
      "Neural Net Top-3 Accuracy: 1.0000\n",
      "Neural Net Classification Report:\n",
      "                                                     precision    recall  f1-score   support\n",
      "\n",
      "                 Animation, Graphics and Multimedia       1.00      1.00      1.00        20\n",
      "                   B.Arch- Bachelor of Architecture       1.00      1.00      1.00        20\n",
      "                        B.Com- Bachelor of Commerce       1.00      0.90      0.95        20\n",
      "                                              B.Ed.       1.00      1.00      1.00        20\n",
      "                              B.Sc- Applied Geology       1.00      1.00      1.00        20\n",
      "                                      B.Sc- Nursing       1.00      1.00      1.00        20\n",
      "                                    B.Sc. Chemistry       1.00      1.00      1.00        21\n",
      "                                  B.Sc. Mathematics       1.00      1.00      1.00        21\n",
      "                      B.Sc.- Information Technology       1.00      1.00      1.00        20\n",
      "                                     B.Sc.- Physics       1.00      1.00      1.00        20\n",
      "                          B.Tech.-Civil Engineering       1.00      1.00      1.00        21\n",
      "           B.Tech.-Computer Science and Engineering       1.00      1.00      1.00        20\n",
      "     B.Tech.-Electrical and Electronics Engineering       1.00      1.00      1.00        20\n",
      "  B.Tech.-Electronics and Communication Engineering       1.00      1.00      1.00        20\n",
      "                     B.Tech.-Mechanical Engineering       1.00      1.00      1.00        21\n",
      "                                    BA in Economics       1.00      1.00      1.00        20\n",
      "                                      BA in English       1.00      1.00      1.00        20\n",
      "                                        BA in Hindi       1.00      1.00      1.00        20\n",
      "                                      BA in History       1.00      1.00      1.00        20\n",
      "           BBA- Bachelor of Business Administration       1.00      1.00      1.00        20\n",
      "                  BBS- Bachelor of Business Studies       0.92      1.00      0.96        22\n",
      "             BCA- Bachelor of Computer Applications       1.00      1.00      1.00        21\n",
      "                    BDS- Bachelor of Dental Surgery       1.00      1.00      1.00        20\n",
      "                  BEM- Bachelor of Event Management       1.00      1.00      1.00        20\n",
      "                 BFD- Bachelor of Fashion Designing       1.00      1.00      1.00        20\n",
      "BJMC- Bachelor of Journalism and Mass Communication       1.00      1.00      1.00        20\n",
      "                      BPharma- Bachelor of Pharmacy       1.00      1.00      1.00        20\n",
      "    BTTM- Bachelor of Travel and Tourism Management       1.00      1.00      1.00        18\n",
      "                       BVA- Bachelor of Visual Arts       1.00      1.00      1.00        20\n",
      "                          CA- Chartered Accountancy       1.00      1.00      1.00        21\n",
      "                              CS- Company Secretary       1.00      1.00      1.00        20\n",
      "                                     Civil Services       1.00      1.00      1.00        20\n",
      "                           Diploma in Dramatic Arts       1.00      1.00      1.00        20\n",
      "                   Integrated Law Course- BA + LL.B       1.00      1.00      1.00        20\n",
      "                                               MBBS       1.00      1.00      1.00        21\n",
      "\n",
      "                                           accuracy                           1.00       707\n",
      "                                          macro avg       1.00      1.00      1.00       707\n",
      "                                       weighted avg       1.00      1.00      1.00       707\n",
      "\n"
     ]
    }
   ],
   "source": [
    "# Get predicted probabilities\n",
    "y_pred_probs = model.predict(X_test)\n",
    "\n",
    "# Get Top-3 Accuracy\n",
    "y_true = np.argmax(y_test, axis=1)\n",
    "top3_acc = top_k_accuracy_score(y_true, y_pred_probs, k=3)\n",
    "print(f\"Neural Net Top-3 Accuracy: {top3_acc:.4f}\")\n",
    "\n",
    "# Get predicted classes (for classification report)\n",
    "y_pred_nn = np.argmax(y_pred_probs, axis=1)\n",
    "\n",
    "print(\"Neural Net Classification Report:\")\n",
    "print(classification_report(y_true, y_pred_nn, target_names=le.classes_))"
   ]
  }
 ],
 "metadata": {
  "kernelspec": {
   "display_name": ".venv",
   "language": "python",
   "name": "python3"
  },
  "language_info": {
   "codemirror_mode": {
    "name": "ipython",
    "version": 3
   },
   "file_extension": ".py",
   "mimetype": "text/x-python",
   "name": "python",
   "nbconvert_exporter": "python",
   "pygments_lexer": "ipython3",
   "version": "3.12.7"
  }
 },
 "nbformat": 4,
 "nbformat_minor": 2
}
